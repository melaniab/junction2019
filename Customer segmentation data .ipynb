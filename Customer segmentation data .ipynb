{
 "cells": [
  {
   "cell_type": "markdown",
   "metadata": {},
   "source": [
    "This notebook contains data exploration about customer groups of Foodish service."
   ]
  },
  {
   "cell_type": "code",
   "execution_count": 2,
   "metadata": {},
   "outputs": [],
   "source": [
    "data_path = \"C://Users/melania/Documents/Junction/Junction-Kesko-Receipt-Data/Junction_data.csv\""
   ]
  },
  {
   "cell_type": "code",
   "execution_count": 3,
   "metadata": {
    "scrolled": true
   },
   "outputs": [],
   "source": [
    "import pandas as pd \n",
    "df = pd.read_csv(data_path, nrows=49410457, sep=\";\") #nrows is explicit due to malforatting of the file"
   ]
  },
  {
   "cell_type": "markdown",
   "metadata": {},
   "source": [
    "### General data "
   ]
  },
  {
   "cell_type": "code",
   "execution_count": 5,
   "metadata": {},
   "outputs": [
    {
     "name": "stdout",
     "output_type": "stream",
     "text": [
      "Number of records:  49410457\n"
     ]
    }
   ],
   "source": [
    "N_RECORDS =  len(df)\n",
    "print(\"Number of records: \", N_RECORDS)"
   ]
  },
  {
   "cell_type": "code",
   "execution_count": 22,
   "metadata": {},
   "outputs": [],
   "source": [
    "data = df"
   ]
  },
  {
   "cell_type": "code",
   "execution_count": 9,
   "metadata": {
    "scrolled": true
   },
   "outputs": [
    {
     "data": {
      "text/html": [
       "<div>\n",
       "<style scoped>\n",
       "    .dataframe tbody tr th:only-of-type {\n",
       "        vertical-align: middle;\n",
       "    }\n",
       "\n",
       "    .dataframe tbody tr th {\n",
       "        vertical-align: top;\n",
       "    }\n",
       "\n",
       "    .dataframe thead th {\n",
       "        text-align: right;\n",
       "    }\n",
       "</style>\n",
       "<table border=\"1\" class=\"dataframe\">\n",
       "  <thead>\n",
       "    <tr style=\"text-align: right;\">\n",
       "      <th></th>\n",
       "      <th>AreaId</th>\n",
       "      <th>Receipt</th>\n",
       "      <th>TransactionDate</th>\n",
       "      <th>BeginHour</th>\n",
       "      <th>EAN</th>\n",
       "      <th>Quantity</th>\n",
       "      <th>PersonAgeGrp</th>\n",
       "      <th>KCustomer</th>\n",
       "      <th>QualClass</th>\n",
       "      <th>EasyClass</th>\n",
       "    </tr>\n",
       "  </thead>\n",
       "  <tbody>\n",
       "    <tr>\n",
       "      <th>0</th>\n",
       "      <td>1</td>\n",
       "      <td>356601823178935</td>\n",
       "      <td>2017-11-07</td>\n",
       "      <td>17</td>\n",
       "      <td>5410103915654</td>\n",
       "      <td>1,000000</td>\n",
       "      <td>55-64</td>\n",
       "      <td>6715</td>\n",
       "      <td>Q_1-3</td>\n",
       "      <td>E_4-7</td>\n",
       "    </tr>\n",
       "    <tr>\n",
       "      <th>1</th>\n",
       "      <td>1</td>\n",
       "      <td>356341113181337</td>\n",
       "      <td>2017-11-05</td>\n",
       "      <td>12</td>\n",
       "      <td>6413466126704</td>\n",
       "      <td>1,000000</td>\n",
       "      <td>35-44</td>\n",
       "      <td>6712</td>\n",
       "      <td>Q_1-3</td>\n",
       "      <td>E_4-7</td>\n",
       "    </tr>\n",
       "    <tr>\n",
       "      <th>2</th>\n",
       "      <td>1</td>\n",
       "      <td>356629240622521</td>\n",
       "      <td>2017-11-07</td>\n",
       "      <td>18</td>\n",
       "      <td>24000017677</td>\n",
       "      <td>1,000000</td>\n",
       "      <td>45-54</td>\n",
       "      <td>6715</td>\n",
       "      <td>Q_1-3</td>\n",
       "      <td>E_4-7</td>\n",
       "    </tr>\n",
       "    <tr>\n",
       "      <th>3</th>\n",
       "      <td>1</td>\n",
       "      <td>356269217607293</td>\n",
       "      <td>2017-11-04</td>\n",
       "      <td>13</td>\n",
       "      <td>6412000033188</td>\n",
       "      <td>2,000000</td>\n",
       "      <td>55-64</td>\n",
       "      <td>6712</td>\n",
       "      <td>Q_4-7</td>\n",
       "      <td>E_4-7</td>\n",
       "    </tr>\n",
       "    <tr>\n",
       "      <th>4</th>\n",
       "      <td>1</td>\n",
       "      <td>356215448049286</td>\n",
       "      <td>2017-11-04</td>\n",
       "      <td>11</td>\n",
       "      <td>2000940900000</td>\n",
       "      <td>1,000000</td>\n",
       "      <td>45-54</td>\n",
       "      <td>6713</td>\n",
       "      <td>Q_1-3</td>\n",
       "      <td>E_8-10</td>\n",
       "    </tr>\n",
       "  </tbody>\n",
       "</table>\n",
       "</div>"
      ],
      "text/plain": [
       "   AreaId          Receipt TransactionDate  BeginHour            EAN  \\\n",
       "0       1  356601823178935      2017-11-07         17  5410103915654   \n",
       "1       1  356341113181337      2017-11-05         12  6413466126704   \n",
       "2       1  356629240622521      2017-11-07         18    24000017677   \n",
       "3       1  356269217607293      2017-11-04         13  6412000033188   \n",
       "4       1  356215448049286      2017-11-04         11  2000940900000   \n",
       "\n",
       "   Quantity PersonAgeGrp  KCustomer QualClass EasyClass  \n",
       "0  1,000000        55-64       6715     Q_1-3     E_4-7  \n",
       "1  1,000000        35-44       6712     Q_1-3     E_4-7  \n",
       "2  1,000000        45-54       6715     Q_1-3     E_4-7  \n",
       "3  2,000000        55-64       6712     Q_4-7     E_4-7  \n",
       "4  1,000000        45-54       6713     Q_1-3    E_8-10  "
      ]
     },
     "execution_count": 9,
     "metadata": {},
     "output_type": "execute_result"
    }
   ],
   "source": [
    "df.head()"
   ]
  },
  {
   "cell_type": "code",
   "execution_count": 6,
   "metadata": {},
   "outputs": [],
   "source": [
    "receipt_data = df.groupby(\"Receipt\").Quantity.sum()"
   ]
  },
  {
   "cell_type": "code",
   "execution_count": 7,
   "metadata": {},
   "outputs": [
    {
     "name": "stdout",
     "output_type": "stream",
     "text": [
      "Number of receipts:  5729656\n"
     ]
    }
   ],
   "source": [
    "N_RECEIPTS = len(receipt_data)\n",
    "print(\"Number of receipts: \", N_RECEIPTS)"
   ]
  },
  {
   "cell_type": "code",
   "execution_count": 14,
   "metadata": {},
   "outputs": [
    {
     "name": "stdout",
     "output_type": "stream",
     "text": [
      "First date:  2017-11-01 Last date:  2019-09-24\n"
     ]
    }
   ],
   "source": [
    "#TIME_DATA \n",
    "FIRST_DAY = min(df[\"TransactionDate\"])\n",
    "LAST_DAY = max(df[\"TransactionDate\"])\n",
    "print(\"First date: \", FIRST_DAY, \"Last date: \", LAST_DAY)"
   ]
  },
  {
   "cell_type": "markdown",
   "metadata": {},
   "source": [
    "We have 49,410,457 purchases from 5,729,656 receipts, taken between 2017-11-01 and 2019-09-24."
   ]
  },
  {
   "cell_type": "code",
   "execution_count": 20,
   "metadata": {},
   "outputs": [],
   "source": [
    "def normalize_data(data): \n",
    "    \"\"\"Retrun number of purchases as fraction of all. \n",
    "    Arg: \n",
    "    data: data dictionary\n",
    "    retruns: normalized dictionary. \n",
    "    \"\"\"\n",
    "    data_norm  = {k: v / N_RECORDS for k, v in data.items()}\n",
    "    \n",
    "    return data_norm"
   ]
  },
  {
   "cell_type": "code",
   "execution_count": 24,
   "metadata": {
    "scrolled": false
   },
   "outputs": [
    {
     "data": {
      "text/plain": [
       "{2: 0.3661986368594,\n",
       " 1: 0.23175183342262953,\n",
       " 3: 0.20489767985752488,\n",
       " 4: 0.19715184986044554}"
      ]
     },
     "execution_count": 24,
     "metadata": {},
     "output_type": "execute_result"
    }
   ],
   "source": [
    "#Area data \n",
    "area_data = df.AreaId.value_counts()\n",
    "normalize_data(area_data)"
   ]
  },
  {
   "cell_type": "markdown",
   "metadata": {},
   "source": [
    "#### Age data "
   ]
  },
  {
   "cell_type": "code",
   "execution_count": 26,
   "metadata": {
    "scrolled": true
   },
   "outputs": [
    {
     "data": {
      "text/plain": [
       "{'65-': 0.21617195323653857,\n",
       " '45-54': 0.19986961464452757,\n",
       " '55-64': 0.1930803432965617,\n",
       " '35-44': 0.1893210580910029,\n",
       " '25-34': 0.1345485227954884,\n",
       " '18-24': 0.026954193117460945}"
      ]
     },
     "execution_count": 26,
     "metadata": {},
     "output_type": "execute_result"
    }
   ],
   "source": [
    "age = df.PersonAgeGrp.value_counts()\n",
    "an = normalize_data(age)\n",
    "an"
   ]
  },
  {
   "cell_type": "code",
   "execution_count": 27,
   "metadata": {},
   "outputs": [
    {
     "data": {
      "text/plain": [
       "0.16150271591294935"
      ]
     },
     "execution_count": 27,
     "metadata": {},
     "output_type": "execute_result"
    }
   ],
   "source": [
    "an['25-34'] + an['18-24']"
   ]
  },
  {
   "cell_type": "markdown",
   "metadata": {},
   "source": [
    "In early stages of our product, we will concentrate of young poople (18-34), who are most likely to use apps \n",
    "and to leave alone and experience problems with bougth but unneeeded food. This groups forms only 16% of purchases, but they are the trend setters and can influence all ages behavior."
   ]
  },
  {
   "cell_type": "markdown",
   "metadata": {},
   "source": [
    "### Quality and easiness analises "
   ]
  },
  {
   "cell_type": "code",
   "execution_count": 32,
   "metadata": {},
   "outputs": [
    {
     "data": {
      "text/plain": [
       "{'Q_4-7': 0.4031077267712784,\n",
       " 'Q_1-3': 0.31362450260275876,\n",
       " 'Q_8-10': 0.28326777062596287}"
      ]
     },
     "execution_count": 32,
     "metadata": {},
     "output_type": "execute_result"
    }
   ],
   "source": [
    "q = df.QualClass.value_counts()\n",
    "qn = normalize_data(q)\n",
    "qn\n"
   ]
  },
  {
   "cell_type": "code",
   "execution_count": 33,
   "metadata": {},
   "outputs": [
    {
     "name": "stdout",
     "output_type": "stream",
     "text": [
      "0.6863754973972412\n"
     ]
    }
   ],
   "source": [
    "print(qn[\"Q_4-7\"]+qn[\"Q_8-10\"])"
   ]
  },
  {
   "cell_type": "markdown",
   "metadata": {},
   "source": [
    "#### Quality\n",
    "For customer quality,data  we care about having groups **Q_4_7** and **Q_8_10** as customers.   \n",
    "The upper group (8-10) consist of the people who realy care about healthy lifestile and enviromental impact. They are likely to already use similar products and are our earlyadopters. \n",
    "This groups forms about 28% of the purchases.      \n",
    "         \n",
    "The middle group (4-7) contains of people who are seeking for convenience in their lifes. Foodish can help these people save money and \n",
    "live in a smarter way. They form 40% of the purchases.    \n",
    "      \n",
    "Last group (1-3) is not primary our target, because it includes people who may try to misuse Foodish and take more food than give. \n"
   ]
  },
  {
   "cell_type": "code",
   "execution_count": 35,
   "metadata": {},
   "outputs": [
    {
     "data": {
      "text/plain": [
       "{'Q_4-7': 0.4031077267712784,\n",
       " 'Q_1-3': 0.31362450260275876,\n",
       " 'Q_8-10': 0.28326777062596287}"
      ]
     },
     "execution_count": 35,
     "metadata": {},
     "output_type": "execute_result"
    }
   ],
   "source": [
    "e = df.EasyClass.value_counts()\n",
    "en = normalize_data(q)\n",
    "en\n"
   ]
  },
  {
   "cell_type": "markdown",
   "metadata": {},
   "source": [
    "####  Easiness\n",
    "\n",
    "Fast and easy (8-10) consumers don’t focus on cooking. They are not familiar with cooking and can take advantage of an ap that is showing them recepies. \n",
    "They form 31% of purchases. \n",
    "\n",
    "Middle group (4-7) are familiar qith basics of cooking, but might be excided to try new things in the neighbourhood. \n",
    "They form 31% of purchases. \n",
    "\n",
    "Cooking and bakery (1-3) customers prefer are masters in the kitchen. They might be interested to meet new people through food and share there art. \n",
    "They form 28% of purchases. \n"
   ]
  },
  {
   "cell_type": "markdown",
   "metadata": {},
   "source": [
    "### KCustomer types"
   ]
  },
  {
   "cell_type": "code",
   "execution_count": 39,
   "metadata": {
    "scrolled": true
   },
   "outputs": [
    {
     "data": {
      "text/plain": [
       "{6714: 0.24068896994820346,\n",
       " 6713: 0.20415478043443314,\n",
       " 6711: 0.197529199132888,\n",
       " 6712: 0.18546669179764924,\n",
       " 6715: 0.17216035868682616}"
      ]
     },
     "execution_count": 39,
     "metadata": {},
     "output_type": "execute_result"
    }
   ],
   "source": [
    "k = df.KCustomer.value_counts()\n",
    "kn = normalize_data(k)\n",
    "kn"
   ]
  },
  {
   "cell_type": "code",
   "execution_count": 42,
   "metadata": {},
   "outputs": [
    {
     "data": {
      "text/plain": [
       "0.6489985308170697"
      ]
     },
     "execution_count": 42,
     "metadata": {},
     "output_type": "execute_result"
    }
   ],
   "source": [
    "kn[6714] + kn[6713] + kn[6713]"
   ]
  },
  {
   "cell_type": "markdown",
   "metadata": {},
   "source": [
    "KCustomer type values correspond to:   \n",
    "6711 - Enthusiast                 \n",
    "6712 - Pleasure-seeking       \n",
    "6713 - Aware          \n",
    "6714 - Convenience-seeking  \n",
    "6715 - Established       \n",
    "   \n",
    "Our targets are enthusiast, who might end with two much food after shopping, people who seek convenience, and people who are aware about their shoppig behavior. \n",
    "They form totally 65% of purchases. "
   ]
  }
 ],
 "metadata": {
  "kernelspec": {
   "display_name": "Python 3",
   "language": "python",
   "name": "python3"
  },
  "language_info": {
   "codemirror_mode": {
    "name": "ipython",
    "version": 3
   },
   "file_extension": ".py",
   "mimetype": "text/x-python",
   "name": "python",
   "nbconvert_exporter": "python",
   "pygments_lexer": "ipython3",
   "version": "3.6.8"
  }
 },
 "nbformat": 4,
 "nbformat_minor": 2
}
